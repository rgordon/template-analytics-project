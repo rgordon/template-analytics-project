{
 "cells": [
  {
   "cell_type": "markdown",
   "id": "3f7f726b-075d-46d7-ac66-9eac6ed5c39a",
   "metadata": {},
   "source": [
    "## Template Notebook"
   ]
  },
  {
   "cell_type": "code",
   "execution_count": null,
   "id": "401e64f7-fe92-4f3b-aa06-a442035402bf",
   "metadata": {
    "tags": []
   },
   "outputs": [],
   "source": [
    "import os\n",
    "import pathlib\n",
    "import sys\n",
    "\n",
    "print(f\"cwd:  {pathlib.Path.cwd()}\")\n",
    "print(f\"ver:  {sys.version}\")"
   ]
  },
  {
   "cell_type": "code",
   "execution_count": null,
   "id": "49ddf387-80ab-4a7b-baef-0203a3005b97",
   "metadata": {
    "tags": []
   },
   "outputs": [],
   "source": [
    "%matplotlib inline\n",
    "\n",
    "import pprint\n",
    "import datetime as dt\n",
    "\n",
    "import matplotlib as mpl\n",
    "import matplotlib.pyplot as plt\n",
    "import numpy as np\n",
    "import pandas as pd\n",
    "import sklearn as skl"
   ]
  },
  {
   "cell_type": "code",
   "execution_count": null,
   "id": "d2f97a65-28a2-448d-ad3a-a4bf77560c34",
   "metadata": {
    "tags": []
   },
   "outputs": [],
   "source": [
    "print(f\"matplotlib: {mpl.__version__}\")\n",
    "print(f\"pandas: {pd.__version__}\")\n",
    "print(f\"numpy: {np.__version__}\")\n",
    "print(f\"sklearn: {skl.__version__}\")"
   ]
  },
  {
   "cell_type": "code",
   "execution_count": null,
   "id": "e7f7ad95-9af5-43d3-b64e-86858f235525",
   "metadata": {
    "tags": []
   },
   "outputs": [],
   "source": []
  }
 ],
 "metadata": {
  "kernelspec": {
   "display_name": "Python 3 (ipykernel)",
   "language": "python",
   "name": "python3"
  },
  "language_info": {
   "codemirror_mode": {
    "name": "ipython",
    "version": 3
   },
   "file_extension": ".py",
   "mimetype": "text/x-python",
   "name": "python",
   "nbconvert_exporter": "python",
   "pygments_lexer": "ipython3",
   "version": "3.11.2"
  }
 },
 "nbformat": 4,
 "nbformat_minor": 5
}
